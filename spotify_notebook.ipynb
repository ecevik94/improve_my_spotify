{
 "cells": [
  {
   "cell_type": "markdown",
   "metadata": {},
   "source": [
    "# Making my Spotify more like me :)"
   ]
  },
  {
   "cell_type": "code",
   "execution_count": 1,
   "metadata": {},
   "outputs": [],
   "source": [
    "# Import required packages \n",
    "from dotenv import load_dotenv\n",
    "import os\n",
    "import spotipy\n",
    "from spotipy.oauth2 import SpotifyOAuth\n",
    "import pandas as pd\n",
    "import requests\n",
    "import lyricsgenius\n"
   ]
  },
  {
   "cell_type": "code",
   "execution_count": 2,
   "metadata": {},
   "outputs": [],
   "source": [
    "# Reach your secret variables \n",
    "\n",
    "# Load the .env file\n",
    "load_dotenv()\n",
    "\n",
    "# Access the credentials\n",
    "CLIENT_ID = os.getenv(\"SPOTIFY_CLIENT_ID\")\n",
    "CLIENT_SECRET = os.getenv(\"SPOTIFY_CLIENT_SECRET\")"
   ]
  },
  {
   "cell_type": "code",
   "execution_count": 3,
   "metadata": {},
   "outputs": [],
   "source": [
    "# Spotify variable \n",
    "REDIRECT_URI = \"http://localhost:8888/callback\""
   ]
  },
  {
   "cell_type": "code",
   "execution_count": 4,
   "metadata": {},
   "outputs": [],
   "source": [
    "# Define your scope (check what you need https://developer.spotify.com/documentation/web-api/concepts/scopes)\n",
    "\n",
    "scope_playlist = [\"playlist-read-private\", \n",
    "                  \"playlist-modify-private\", \n",
    "                  \"playlist-modify-public\", \n",
    "                  \"user-read-playback-position\",\n",
    "                 \"user-top-read\", \n",
    "                 \"user-read-recently-played\"]\n"
   ]
  },
  {
   "cell_type": "code",
   "execution_count": 5,
   "metadata": {},
   "outputs": [],
   "source": [
    "# Authenticate\n",
    "sp = spotipy.Spotify(auth_manager=SpotifyOAuth(\n",
    "    client_id = CLIENT_ID,\n",
    "    client_secret = CLIENT_SECRET,\n",
    "    redirect_uri = REDIRECT_URI,\n",
    "    scope = scope_playlist\n",
    "))"
   ]
  },
  {
   "cell_type": "code",
   "execution_count": 6,
   "metadata": {},
   "outputs": [],
   "source": [
    "# Get your playlists\n",
    "user_id = sp.current_user()[\"id\"]\n",
    "playlists = sp.current_user_playlists()"
   ]
  },
  {
   "cell_type": "code",
   "execution_count": 7,
   "metadata": {},
   "outputs": [
    {
     "name": "stdout",
     "output_type": "stream",
     "text": [
      "Your Playlists:\n",
      "Samantha, is that you? (ID: 16SQt11QwSl4dg5wctuRCq)\n",
      "Princes carolyn after bojack horseman (ID: 1OAns2RhqSAyfUDY843NrR)\n",
      "It was a long year but you've made it (ID: 6fBtSYH79fELYYnzL4S54C)\n",
      "downer (ID: 0MZ7RQWIaaPKPxmraXT94O)\n",
      "Full comedy shows (ID: 5GxQEq7BE9XtQsJozAfaG9)\n",
      "Iliza Shlesinger (ID: 4RjAYOx3d649l14zqEtSho)\n",
      "My brother and his friends  (ID: 2JDB67aL7LIU77OUP2nhlf)\n",
      "American Roadtrip Playlist: Hayaller Route 66 Gerçekler Afyon Dinlenme Tesisi (ID: 7JkZ8S064ezdHwR6ryfeiY)\n",
      "Jerry Seinfeld - “I’m Telling You For the Last Time” (ID: 6ymFsBTvWqWn6oPuIgOqlD)\n",
      "Lift me up (ID: 1HjISyKstF1JmaHReqvTw3)\n",
      "Classical GYM (ID: 34lPKDQ8gTZW4wXDR8G6kM)\n",
      "Soul, Jazz and Blues  (ID: 1w34JrNa6VEFkKc3cJsn9c)\n",
      "Classical music for villains  (ID: 0PLteLOoJNWvHh7OdxugTJ)\n",
      "PARTY OF LIFE PLAYLIST (ID: 2k1fkDVpzFAlTkJ8HjVfJA)\n",
      "BD (ID: 01oxVGQCl5Am2ZUPJslrXt)\n",
      "ADHD Techno Focus - Full Concentration (ID: 2RHfgparZ8PzI4tJnYtVof)\n",
      "Feminist Türkçe Şarkılar (ID: 5KQ2PgWErnoa63YL2PhsNN)\n",
      "disil enerjiyi tavan yapan turkce pop (ID: 6IoxQALUu6yV4Od8Ty30Ve)\n",
      "anksiyetemi azalttığını iddia ettiğim şarkılar (ID: 1NO2nNmJcMcfcwR1MChHhn)\n",
      "Amsterdam Playlist 🥳 (ID: 2uAPQvfQ5KHQseKsrC88ZT)\n",
      "My 2023 Playlist in a Bottle (ID: 7tLhKjUSPnYQoWlvNxmnxK)\n",
      "Chill  Vibes 2024 🌙 (ID: 6IKQrtMc4c00YzONcUt7QH)\n",
      "Tunisian Oldies 🇹🇳 (ID: 5WcBd9AiamsmCylRBxUNfU)\n",
      "Love Songs (ID: 5813aTZ7qb3jeHvLBkou8E)\n",
      "It is okay (ID: 2SSSQWWgQE0IPS1YKWuoHk)\n",
      "happiness of sadness | POST-PUNK/LO-FI/COLD WAVE/DREAMPOP/SYNTH/DARK WAVE (ID: 5wLi4Ktz46QGcMifwyPxJf)\n",
      "Wink mit dem Zaunpfahl (ID: 3vlOAUUqMTvu4n7RRtVUdi)\n",
      "Easy (ID: 41mlbMrYSIKszemOt8zBK9)\n",
      "arriving (ID: 0cf4X8hio0qa4cPOS0aB91)\n",
      "Hot Summer Nights Soundtrack (ID: 7dPr21ebaKYWQbrtDSQLJo)\n",
      "Working Happy (ID: 1nZAzGkhC6b8S6E1uf5Uey)\n",
      "Intimate (ID: 4MmRxF1Wl2i3m1gsrpARMx)\n",
      "Anxiety Relief / Stress Relief 2024 (ID: 4nQE6AY2YwnymjbGzH0wMs)\n",
      "Ask mesk (ID: 2Xcl8DwXaYntpQPBqQGBtB)\n",
      "Sakin yeni Turkce (ID: 68t9c8EkvPmq6VQkRFo4G6)\n",
      "Easy Turkish (ID: 6eKZCa7lgfa96yQRQoPTqF)\n",
      "for the soul (ID: 56w8cSzEPrFTqgUgkdv4HB)\n",
      "Whiskey Blues 🥃 Тhe Original | The Best Slow Blues / Blues Rock  by Don's Tunes (ID: 7uAGy7qbOhWgtXcyb5kvmn)\n",
      "Eski Türkçe Neşeli Şarkılar (ID: 732CjW0ydkKWBqzUWES6cY)\n",
      "Bazen özlersin (ID: 7qEDVtM0rltpbEJrUpUsbV)\n",
      "Ergenlik (ID: 3FQqHAnF1VRG1ICfetJnU4)\n",
      "Sunday Morning - Paris Cafe (ID: 4BlcsJJS5AjcKPRRgeWZz8)\n",
      "Teenager with attitude (ID: 71nLfmUYELd9loaz4vzprQ)\n",
      "The Sopranos Soundtrack  (ID: 2CErGAqD3keSxagGDWLuBS)\n",
      "Snow (ID: 4FKZUgdy7xkv569StNKeO7)\n",
      "Running (ID: 5DbFUrIsFJ4IWC4l0namP0)\n",
      "Run with Headspace (ID: 5UeYUUQnTy2amoVm6Tbmeb)\n",
      "Perfect Blue (ID: 1wyFucgWTdHbZLleBrskfd)\n",
      "Normal People Hulu Soundtrack (ID: 2wX5xRauuto4aN5sVbaswZ)\n",
      "Deutschpop Hits (ID: 5M7jfvXr6fiQ21U8jfe9aE)\n"
     ]
    }
   ],
   "source": [
    "# Print playlist names and IDs\n",
    "print(\"Your Playlists:\")\n",
    "for playlist in playlists[\"items\"]:\n",
    "    print(f\"{playlist['name']} (ID: {playlist['id']})\")"
   ]
  },
  {
   "cell_type": "code",
   "execution_count": 8,
   "metadata": {},
   "outputs": [],
   "source": [
    "# Select a playlist to reorder\n",
    "playlist_id = \"6fBtSYH79fELYYnzL4S54C\"\n",
    "tracks = sp.playlist_tracks(playlist_id)[\"items\"]"
   ]
  },
  {
   "cell_type": "code",
   "execution_count": 9,
   "metadata": {},
   "outputs": [
    {
     "name": "stdout",
     "output_type": "stream",
     "text": [
      "                                           track_name                track_id  \\\n",
      "0                         Like Spinning Plates - Live  30V7kc7a8R3ONCRG1ipEZc   \n",
      "1                                              Try Me  58DBGys2swRUOGDU5OhnfZ   \n",
      "2                       Don't Let Me Be Misunderstood  7M9pPyt8Gr41THLhbz4NSB   \n",
      "3           Nobody Knows You When You're Down And Out  5yMRZqh2HCo5NFbLNt6sD1   \n",
      "4                               I Say a Little Prayer  5SeTlOjdflYC55NpLpidfZ   \n",
      "5                     I Will Survive - Single Version  7cv28LXcjAC3GsXbUvXKbX   \n",
      "6                                       Wrecking Ball  2vwlzO0Qp8kfEtzTsCXfyE   \n",
      "7                                     Everybody Hurts  6PypGyiu0Y2lCDBN1XZEnP   \n",
      "8                                          Guitar Man  0gZXockVcE7rEhSf4mcGLO   \n",
      "9                     How Can You Mend a Broken Heart  6lUXneXZ9jc3HSMHgd8oqh   \n",
      "10                            Put A Little Love On Me  7LyBwug9tJgbaEzRCqtY78   \n",
      "11                 Chandelier - Live from The Village  2CZX6RHW9EYFhhTANVsF5A   \n",
      "12         Empire State of Mind (Part II) Broken Down  5sra5UY6sD658OabHL3QtI   \n",
      "13                  You Don't Have To Say You Love Me  2BK4Vuf2WpjgiKMtLMb4U7   \n",
      "14  Valerie - Live At BBC Radio 1 Live Lounge, Lon...  6nLvaCZFR1wEzW3sIKpsnr   \n",
      "15                                   Yellow Ledbetter  3bE5slaVEfaDreqARl6k4M   \n",
      "16                                         ocean eyes  7hDVYcQq6MxkdJGweuCtl9   \n",
      "17                                everything i wanted  3ZCTVFBt2Brf31RLEnCkWJ   \n",
      "18                    Feels Like We Only Go Backwards  0LtOwyZoSNZKJWHqjzADpW   \n",
      "19                                          Liability  6Kkt27YmFyIFrcX3QXFi2o   \n",
      "20                                          Kill Bill  1Qrg8KqiBpW07V7PNxwwwL   \n",
      "21                                       Lose Control  6usohdchdzW9oML7VC4Uhk   \n",
      "22  Ain't No Love In The Heart Of The City - Singl...  4qYHnP5AmKzXbJhciPV8si   \n",
      "23                                  Wonderful Tonight  6zC0mpGYwbNTpk9SKwh08f   \n",
      "24                                          Your Song  38zsOOcu31XbbYj9BIPUF1   \n",
      "25                        Make Your Own Kind Of Music  6H3Wa6hWR9DRMzMSd4pZkT   \n",
      "26  Rocket Man (I Think It's Going To Be A Long, L...  3gdewACMIVMEWVbyb8O9sY   \n",
      "27                              Love Is A Losing Game  3uliGwmB52ZA7brgpZMzyH   \n",
      "28                  The World (Is Going Up in Flames)  6MQlNH8e6jG0LZg2mocK1R   \n",
      "29                        F**K All the Perfect People  2DFD0Zga3HBwMHIpGnsZJz   \n",
      "30                                  Take Me Down Easy  3fVFJSXz0luBbj2HTAbtsd   \n",
      "31                                      I'm Moving On  1ioqlEKV59OpJCz4CfB3f4   \n",
      "32                                Tomorrow Is My Turn  3cfz4PB3iCqG12StNkKvRo   \n",
      "33                           I Know I've Been Changed  6nUIuLITcryRxnLQ74YBeQ   \n",
      "34                                      Under Control  3kKb3U3a8jmUJQB9ypE1Jl   \n",
      "\n",
      "           track_artist_id   track_artist_name          track_album_id  \\\n",
      "0   4Z8W4fKeB5YxbusRsdQVPb           Radiohead  1vdQ5t7iO2gC3OX7j2GFCt   \n",
      "1   0WZ7IgzdjPvwFdjDjjuZm7     Esther Phillips  4vA54vv8xeITWGOUz8Rdg4   \n",
      "2   7G1GBhoKtEPnP86X2PvEYO         Nina Simone  0do3UV5axUHkROOTkcxr1J   \n",
      "3   7G1GBhoKtEPnP86X2PvEYO         Nina Simone  31pd81sWDaK2pP3ok5892z   \n",
      "4   7nwUJBm0HE4ZxD3f5cy5ok     Aretha Franklin  6OxXVtZwExAmdrUIG2afFf   \n",
      "5   6V6WCgi7waF55bJmylC4H5       Gloria Gaynor  2BU2SNYoIPtZvGEJckdIhx   \n",
      "6   5YGY8feqx7naU7z4HrwZM6         Miley Cyrus  3RDqXDc1bAETps54MSSOW0   \n",
      "7   4KWTAlx2RvbpseOGMEmROg              R.E.M.  0BiNb8HYR4JvuxUa31Z58Q   \n",
      "8   70ZTdbPEcEugBNay4MvxfL               Bread  38mhQ9p2BiHpz60gthzEVy   \n",
      "9   3dkbV4qihUeMsqN4vBGg93            Al Green  58eMx3QrTkiRmGGbSz2XL0   \n",
      "10  1Hsdzj7Dlq2I7tHP7501T4         Niall Horan  5gdoRB1AUsGnScCuZ8gmPp   \n",
      "11  5WUlDfRSoLAfcVSX1WnrxN                 Sia  2fBKreCrztEPXW5bUIgBTf   \n",
      "12  3DiDSECUqqY1AuBP8qtaIa         Alicia Keys  0Rxab8t0y7GlaTJTHX2wEN   \n",
      "13  5zaXYwewAXedKNCff45U5l   Dusty Springfield  6t4BECovfkgGTrtbqmTlZf   \n",
      "14  6Q192DXotxtaysaqNPy5yR       Amy Winehouse  0E4xv5gPjykrwBgBZzI8XG   \n",
      "15  1w5Kfo2jwwIPruYS2UWh56           Pearl Jam  1WJ3UbOi2QYGuRgXCc9FIV   \n",
      "16  6qqNVTkY8uBg9cP3Jd7DAH       Billie Eilish  7fRrTyKvE4Skh93v97gtcU   \n",
      "17  6qqNVTkY8uBg9cP3Jd7DAH       Billie Eilish  4i3rAwPw7Ln2YrKDusaWyT   \n",
      "18  5INjqkS1o8h1imAzPqGZBb         Tame Impala  3C2MFZ2iHotUQOSBzdSvM7   \n",
      "19  163tK9Wjr9P9DmM0AVK7lm               Lorde  2B87zXm9bOWvAJdkJBTpzF   \n",
      "20  7tYKF4w9nC0nq9CsPZTHyP                 SZA  1nrVofqDRs7cpWXJ49qTnP   \n",
      "21  33qOK5uJ8AR2xuQQAhHump         Teddy Swims  5QMiub2LonMqxB7dhtbPlX   \n",
      "22  48nwxUvPJZkm8uPa7xMzmj  Bobby \"Blue\" Bland  5OkHt7JZ6HSkJH359y2H31   \n",
      "23  6PAt558ZEZl0DmdXlnjMgD        Eric Clapton  5MAL7e4EnKXW1hFg6NbFqP   \n",
      "24  3PhoLpVuITZKcymswpck5b          Elton John  69P9Ro0W286yLFgYwrGVN0   \n",
      "25  5jX7X3kRkfJTRqAdT7RcHk         Cass Elliot  3x44BijmAfm1N7Cs7yILL4   \n",
      "26  3PhoLpVuITZKcymswpck5b          Elton John  2ei2X6ghPnw7YRwQtAH075   \n",
      "27  6Q192DXotxtaysaqNPy5yR       Amy Winehouse  0E4xv5gPjykrwBgBZzI8XG   \n",
      "28  462T0buQ5ScBUQCRpodDRf     Charles Bradley  6j1xh7WBOIVNekKFKFKbAp   \n",
      "29  4J9k7L7BrJ7NMWAcvgox1B         Chip Taylor  5Uh3tUQaSFwgpfnxLssPqX   \n",
      "30  02ZZnYUAoQF7J6zhk6G4i9     James Henry Jr.  0mRUp4HxDtJQ3prK2VLYNu   \n",
      "31  7pkvi8QLpIhhypX1Ec71nt   Sons of the Delta  3vkUfg8jGNHYEcvkiEQtvu   \n",
      "32  7G1GBhoKtEPnP86X2PvEYO         Nina Simone  3ofZeSWPHZOE5WC2tNZDez   \n",
      "33  7xGGqA85UIWX1GoTVM4itC  The Staple Singers  0DkzL2vbWM8cJsfxzSzmCI   \n",
      "34  0epOFNiUfyON9EYx7Tpr6V         The Strokes  3HFbH1loOUbqCyPsLuHLLh   \n",
      "\n",
      "                                     track_album_name  track_duration_ms  \n",
      "0                                    I Might Be Wrong             232800  \n",
      "1                                      And I Love Him             170840  \n",
      "2                              Broadway-Blues-Ballads             166200  \n",
      "3                                        Pastel Blues             158200  \n",
      "4         Queen of Soul - The Best of Aretha Franklin             212360  \n",
      "5   20th Century Masters: The Millennium Collectio...             198066  \n",
      "6                            Bangerz (Deluxe Version)             221360  \n",
      "7                            Automatic For The People             320266  \n",
      "8                                          Guitar Man             226213  \n",
      "9                                 Let's Stay Together             383502  \n",
      "10                                 Heartbreak Weather             224585  \n",
      "11                                   Spotify Sessions             237333  \n",
      "12                             The Element Of Freedom             216480  \n",
      "13                              The Silver Collection             168600  \n",
      "14                     Back To Black (Deluxe Edition)             233733  \n",
      "15                                             Jeremy             303586  \n",
      "16                                   dont smile at me             200379  \n",
      "17                                everything i wanted             245425  \n",
      "18                                           Lonerism             192960  \n",
      "19                                          Melodrama             171727  \n",
      "20                                                SOS             153946  \n",
      "21                                       Lose Control             210688  \n",
      "22                                            Dreamer             233560  \n",
      "23           Slowhand 35th Anniversary (Super Deluxe)             225026  \n",
      "24                                         Elton John             241786  \n",
      "25                                    Mama's Big Ones             139533  \n",
      "26                                      Honky Chateau             281613  \n",
      "27                     Back To Black (Deluxe Edition)             155413  \n",
      "28                               No Time For Dreaming             202492  \n",
      "29                        F**K All the Perfect People             258506  \n",
      "30                                  Take Me Down Easy             248616  \n",
      "31                                Made In Mississippi             420026  \n",
      "32                               I Put A Spell On You             168306  \n",
      "33        Faith And Grace: A Family Journey 1953-1976             157640  \n",
      "34                                       Room On Fire             187306  \n"
     ]
    }
   ],
   "source": [
    "# Create a data frame with selected attributes \n",
    "# Extract specified attributes into a flattened structure\n",
    "flattened_data = []\n",
    "for item in tracks:\n",
    "    track = item.get(\"track\", {})\n",
    "    artist = track.get(\"artists\", [{}])[0]  \n",
    "    album = track.get(\"album\", {})\n",
    "    \n",
    "    flat_item = {\n",
    "        \"track_name\": track.get(\"name\"),\n",
    "        \"track_id\": track.get(\"id\"),\n",
    "        \"track_artist_id\": artist.get(\"id\"),\n",
    "        \"track_artist_name\": artist.get(\"name\"),\n",
    "        \"track_album_id\": album.get(\"id\"),\n",
    "        \"track_album_name\": album.get(\"name\"),\n",
    "        \"track_duration_ms\": track.get(\"duration_ms\"),\n",
    "    }\n",
    "    flattened_data.append(flat_item)\n",
    "\n",
    "# Convert to DataFrame\n",
    "tracks_df = pd.DataFrame(flattened_data)\n",
    "\n",
    "# Display DataFrame\n",
    "print(tracks_df)"
   ]
  },
  {
   "cell_type": "markdown",
   "metadata": {},
   "source": [
    "## Get the lyrics of these song"
   ]
  },
  {
   "cell_type": "code",
   "execution_count": 10,
   "metadata": {},
   "outputs": [],
   "source": [
    "GENIOUS_ACCESS_TOKEN = os.getenv(\"PERSONAL_GENIOUS_ACCESS_TOKEN\")\n",
    "genius = lyricsgenius.Genius(GENIOUS_ACCESS_TOKEN, remove_section_headers=True, skip_non_songs=True)"
   ]
  },
  {
   "cell_type": "code",
   "execution_count": 11,
   "metadata": {},
   "outputs": [
    {
     "name": "stdout",
     "output_type": "stream",
     "text": [
      "Searching for \"Toy You\" by Andy Shauf...\n",
      "Done.\n",
      "Jeremy, can we talk a minute?\n",
      "I've got some things that I need to\n",
      "Get off of my chest\n",
      "I know that we've had a few\n",
      "And it's far too late\n",
      "But if I wait, I might never tell you\n",
      "Can we find somewhere quiet?\n",
      "Let's go outside\n",
      "I've got some smokes if you've got a light\n",
      "It's just that sometimes when I'm by your side\n",
      "It feels so right\n",
      "It feels like nothing could go wrong\n",
      "Does it ever\n",
      "Feel like that to you?\n",
      "Does it ever\n",
      "Feel like that to you?\n",
      "Oh, I don't know what I mean\n",
      "It sounded wrong and I'm just tired\n",
      "Not being weird\n",
      "I just mean that you're a good friend\n",
      "It's hard to explain\n",
      "Just forget I said anything\n",
      "Get over yourself\n",
      "I'm not in love with you\n",
      "It just came out all wrong\n",
      "Yeah\n",
      "Tell the guys and laugh it up\n",
      "Why am I even surprised?\n",
      "That it never\n",
      "Feels like that to you\n",
      "That it never\n",
      "Feels like that to you\n",
      "I guess it never\n",
      "Feels like that to you\n",
      "I guess it never\n",
      "Feels like that to you\n"
     ]
    }
   ],
   "source": [
    "song = genius.search_song('Toy You', 'Andy Shauf')\n",
    "print(song.lyrics)"
   ]
  }
 ],
 "metadata": {
  "kernelspec": {
   "display_name": "base",
   "language": "python",
   "name": "python3"
  },
  "language_info": {
   "codemirror_mode": {
    "name": "ipython",
    "version": 3
   },
   "file_extension": ".py",
   "mimetype": "text/x-python",
   "name": "python",
   "nbconvert_exporter": "python",
   "pygments_lexer": "ipython3",
   "version": "3.11.4"
  }
 },
 "nbformat": 4,
 "nbformat_minor": 2
}
